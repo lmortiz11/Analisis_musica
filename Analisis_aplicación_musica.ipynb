{
 "cells": [
  {
   "cell_type": "markdown",
   "metadata": {
    "id": "E0vqbgi9ay0H"
   },
   "source": [
    "# Déjame escuchar la música"
   ]
  },
  {
   "cell_type": "markdown",
   "metadata": {
    "id": "fhq_eyov_Zcs"
   },
   "source": [
    "# Contenido <a id='back'></a>\n",
    "\n",
    "* [Introducción](#intro)\n",
    "* [Etapa 1. Descripción de los datos](#data_review)\n",
    "    * [Conclusiones](#data_review_conclusions)\n",
    "* [Etapa 2. Preprocesamiento de datos](#data_preprocessing)\n",
    "    * [2.1 Estilo del encabezado](#header_style)\n",
    "    * [2.2 Valores ausentes](#missing_values)\n",
    "    * [2.3 Duplicados](#duplicates)\n",
    "    * [2.4 Conclusiones](#data_preprocessing_conclusions)\n",
    "* [Etapa 3. Prueba de hipótesis](#hypothesis)\n",
    "    * [3.1 Hipótesis 1: actividad de los usuarios y las usuarias en las dos ciudades](#activity)\n",
    "* [Conclusiones](#end)"
   ]
  },
  {
   "cell_type": "markdown",
   "metadata": {
    "id": "VUC88oWjTJw2"
   },
   "source": [
    "## Introducción <a id='intro'></a>\n",
    "Como analista de datos, tu trabajo consiste en analizar datos para extraer información valiosa y tomar decisiones basadas en ellos. Esto implica diferentes etapas, como la descripción general de los datos, el preprocesamiento y la prueba de hipótesis.\n",
    "\n",
    "Siempre que investigamos, necesitamos formular hipótesis que después podamos probar. A veces aceptamos estas hipótesis; otras veces, las rechazamos. Para tomar las decisiones correctas, una empresa debe ser capaz de entender si está haciendo las suposiciones correctas.\n",
    "\n",
    "En este proyecto, compararás las preferencias musicales de las ciudades de Springfield y Shelbyville. Estudiarás datos reales de transmisión de música online para probar la hipótesis a continuación y comparar el comportamiento de los usuarios y las usuarias de estas dos ciudades.\n",
    "\n",
    "### Objetivo:\n",
    "Prueba la hipótesis:\n",
    "1. La actividad de los usuarios y las usuarias difiere según el día de la semana y dependiendo de la ciudad.\n",
    "\n",
    "\n",
    "### Etapas\n",
    "Los datos del comportamiento del usuario se almacenan en el archivo `/datasets/music_project_en.csv`. No hay ninguna información sobre la calidad de los datos, así que necesitarás examinarlos antes de probar la hipótesis.\n",
    "\n",
    "Primero, evaluarás la calidad de los datos y verás si los problemas son significativos. Entonces, durante el preprocesamiento de datos, tomarás en cuenta los problemas más críticos.\n",
    "\n",
    "Tu proyecto consistirá en tres etapas:\n",
    " 1. Descripción de los datos.\n",
    " 2. Preprocesamiento de datos.\n",
    " 3. Prueba de hipótesis.\n",
    "\n",
    "\n",
    "\n",
    "\n",
    "\n",
    "\n"
   ]
  },
  {
   "cell_type": "markdown",
   "metadata": {
    "id": "hDt6pg-Rw-1U"
   },
   "source": [
    "[Volver a Contenidos](#back)"
   ]
  },
  {
   "cell_type": "markdown",
   "metadata": {
    "id": "Ml1hmfXC_Zcs"
   },
   "source": [
    "## Etapa 1. Descripción de los datos <a id='data_review'></a>\n",
    "\n",
    "Abre los datos y examínalos."
   ]
  },
  {
   "cell_type": "markdown",
   "metadata": {
    "id": "57eAOGIz_Zcs"
   },
   "source": [
    "Necesitarás `pandas`, así que impórtalo."
   ]
  },
  {
   "cell_type": "code",
   "execution_count": 1,
   "metadata": {
    "id": "AXN7PHPN_Zcs"
   },
   "outputs": [],
   "source": [
    "# Importar pandas\n",
    "import pandas as pd"
   ]
  },
  {
   "cell_type": "markdown",
   "metadata": {
    "id": "SG23P8tt_Zcs"
   },
   "source": [
    "Lee el archivo `music_project_en.csv` de la carpeta `/datasets/` y guárdalo en la variable `df`:"
   ]
  },
  {
   "cell_type": "code",
   "execution_count": 2,
   "metadata": {
    "id": "fFVu7vqh_Zct"
   },
   "outputs": [],
   "source": [
    "# Leer el archivo y almacenarlo en df\n",
    "df=pd.read_csv('/datasets/music_project_en.csv')\n"
   ]
  },
  {
   "cell_type": "markdown",
   "metadata": {
    "id": "rDoOMd3uTqnZ"
   },
   "source": [
    "Muestra las 10 primeras filas de la tabla:"
   ]
  },
  {
   "cell_type": "code",
   "execution_count": 3,
   "metadata": {
    "id": "oWTVX3gW_Zct"
   },
   "outputs": [
    {
     "data": {
      "text/html": [
       "<div>\n",
       "<style scoped>\n",
       "    .dataframe tbody tr th:only-of-type {\n",
       "        vertical-align: middle;\n",
       "    }\n",
       "\n",
       "    .dataframe tbody tr th {\n",
       "        vertical-align: top;\n",
       "    }\n",
       "\n",
       "    .dataframe thead th {\n",
       "        text-align: right;\n",
       "    }\n",
       "</style>\n",
       "<table border=\"1\" class=\"dataframe\">\n",
       "  <thead>\n",
       "    <tr style=\"text-align: right;\">\n",
       "      <th></th>\n",
       "      <th>userID</th>\n",
       "      <th>Track</th>\n",
       "      <th>artist</th>\n",
       "      <th>genre</th>\n",
       "      <th>City</th>\n",
       "      <th>time</th>\n",
       "      <th>Day</th>\n",
       "    </tr>\n",
       "  </thead>\n",
       "  <tbody>\n",
       "    <tr>\n",
       "      <th>0</th>\n",
       "      <td>FFB692EC</td>\n",
       "      <td>Kamigata To Boots</td>\n",
       "      <td>The Mass Missile</td>\n",
       "      <td>rock</td>\n",
       "      <td>Shelbyville</td>\n",
       "      <td>20:28:33</td>\n",
       "      <td>Wednesday</td>\n",
       "    </tr>\n",
       "    <tr>\n",
       "      <th>1</th>\n",
       "      <td>55204538</td>\n",
       "      <td>Delayed Because of Accident</td>\n",
       "      <td>Andreas Rönnberg</td>\n",
       "      <td>rock</td>\n",
       "      <td>Springfield</td>\n",
       "      <td>14:07:09</td>\n",
       "      <td>Friday</td>\n",
       "    </tr>\n",
       "    <tr>\n",
       "      <th>2</th>\n",
       "      <td>20EC38</td>\n",
       "      <td>Funiculì funiculà</td>\n",
       "      <td>Mario Lanza</td>\n",
       "      <td>pop</td>\n",
       "      <td>Shelbyville</td>\n",
       "      <td>20:58:07</td>\n",
       "      <td>Wednesday</td>\n",
       "    </tr>\n",
       "    <tr>\n",
       "      <th>3</th>\n",
       "      <td>A3DD03C9</td>\n",
       "      <td>Dragons in the Sunset</td>\n",
       "      <td>Fire + Ice</td>\n",
       "      <td>folk</td>\n",
       "      <td>Shelbyville</td>\n",
       "      <td>08:37:09</td>\n",
       "      <td>Monday</td>\n",
       "    </tr>\n",
       "    <tr>\n",
       "      <th>4</th>\n",
       "      <td>E2DC1FAE</td>\n",
       "      <td>Soul People</td>\n",
       "      <td>Space Echo</td>\n",
       "      <td>dance</td>\n",
       "      <td>Springfield</td>\n",
       "      <td>08:34:34</td>\n",
       "      <td>Monday</td>\n",
       "    </tr>\n",
       "    <tr>\n",
       "      <th>5</th>\n",
       "      <td>842029A1</td>\n",
       "      <td>Chains</td>\n",
       "      <td>Obladaet</td>\n",
       "      <td>rusrap</td>\n",
       "      <td>Shelbyville</td>\n",
       "      <td>13:09:41</td>\n",
       "      <td>Friday</td>\n",
       "    </tr>\n",
       "    <tr>\n",
       "      <th>6</th>\n",
       "      <td>4CB90AA5</td>\n",
       "      <td>True</td>\n",
       "      <td>Roman Messer</td>\n",
       "      <td>dance</td>\n",
       "      <td>Springfield</td>\n",
       "      <td>13:00:07</td>\n",
       "      <td>Wednesday</td>\n",
       "    </tr>\n",
       "    <tr>\n",
       "      <th>7</th>\n",
       "      <td>F03E1C1F</td>\n",
       "      <td>Feeling This Way</td>\n",
       "      <td>Polina Griffith</td>\n",
       "      <td>dance</td>\n",
       "      <td>Springfield</td>\n",
       "      <td>20:47:49</td>\n",
       "      <td>Wednesday</td>\n",
       "    </tr>\n",
       "    <tr>\n",
       "      <th>8</th>\n",
       "      <td>8FA1D3BE</td>\n",
       "      <td>L’estate</td>\n",
       "      <td>Julia Dalia</td>\n",
       "      <td>ruspop</td>\n",
       "      <td>Springfield</td>\n",
       "      <td>09:17:40</td>\n",
       "      <td>Friday</td>\n",
       "    </tr>\n",
       "    <tr>\n",
       "      <th>9</th>\n",
       "      <td>E772D5C0</td>\n",
       "      <td>Pessimist</td>\n",
       "      <td>NaN</td>\n",
       "      <td>dance</td>\n",
       "      <td>Shelbyville</td>\n",
       "      <td>21:20:49</td>\n",
       "      <td>Wednesday</td>\n",
       "    </tr>\n",
       "  </tbody>\n",
       "</table>\n",
       "</div>"
      ],
      "text/plain": [
       "     userID                        Track            artist   genre  \\\n",
       "0  FFB692EC            Kamigata To Boots  The Mass Missile    rock   \n",
       "1  55204538  Delayed Because of Accident  Andreas Rönnberg    rock   \n",
       "2    20EC38            Funiculì funiculà       Mario Lanza     pop   \n",
       "3  A3DD03C9        Dragons in the Sunset        Fire + Ice    folk   \n",
       "4  E2DC1FAE                  Soul People        Space Echo   dance   \n",
       "5  842029A1                       Chains          Obladaet  rusrap   \n",
       "6  4CB90AA5                         True      Roman Messer   dance   \n",
       "7  F03E1C1F             Feeling This Way   Polina Griffith   dance   \n",
       "8  8FA1D3BE                     L’estate       Julia Dalia  ruspop   \n",
       "9  E772D5C0                    Pessimist               NaN   dance   \n",
       "\n",
       "        City        time        Day  \n",
       "0  Shelbyville  20:28:33  Wednesday  \n",
       "1  Springfield  14:07:09     Friday  \n",
       "2  Shelbyville  20:58:07  Wednesday  \n",
       "3  Shelbyville  08:37:09     Monday  \n",
       "4  Springfield  08:34:34     Monday  \n",
       "5  Shelbyville  13:09:41     Friday  \n",
       "6  Springfield  13:00:07  Wednesday  \n",
       "7  Springfield  20:47:49  Wednesday  \n",
       "8  Springfield  09:17:40     Friday  \n",
       "9  Shelbyville  21:20:49  Wednesday  "
      ]
     },
     "execution_count": 3,
     "metadata": {},
     "output_type": "execute_result"
    }
   ],
   "source": [
    "# Obtener las 10 primeras filas de la tabla df\n",
    "df.head(10)"
   ]
  },
  {
   "cell_type": "markdown",
   "metadata": {
    "id": "EO73Kwic_Zct"
   },
   "source": [
    "Obtén la información general sobre la tabla con un comando. Conoces el método que muestra la información general que necesitamos."
   ]
  },
  {
   "cell_type": "code",
   "execution_count": 4,
   "metadata": {
    "id": "DSf2kIb-_Zct"
   },
   "outputs": [
    {
     "name": "stdout",
     "output_type": "stream",
     "text": [
      "<class 'pandas.core.frame.DataFrame'>\n",
      "RangeIndex: 65079 entries, 0 to 65078\n",
      "Data columns (total 7 columns):\n",
      " #   Column    Non-Null Count  Dtype \n",
      "---  ------    --------------  ----- \n",
      " 0     userID  65079 non-null  object\n",
      " 1   Track     63736 non-null  object\n",
      " 2   artist    57512 non-null  object\n",
      " 3   genre     63881 non-null  object\n",
      " 4     City    65079 non-null  object\n",
      " 5   time      65079 non-null  object\n",
      " 6   Day       65079 non-null  object\n",
      "dtypes: object(7)\n",
      "memory usage: 3.5+ MB\n"
     ]
    }
   ],
   "source": [
    "# Obtener la información general sobre nuestros datos\n",
    "df.info()"
   ]
  },
  {
   "cell_type": "markdown",
   "metadata": {
    "id": "TaQ2Iwbr_Zct"
   },
   "source": [
    "Estas son nuestras observaciones sobre la tabla. Contiene siete columnas. Almacenan los mismos tipos de datos: `object`.\n",
    "\n",
    "Según la documentación:\n",
    "- `' userID'`: identificador del usuario o la usuaria;\n",
    "- `'Track'`: título de la canción;\n",
    "- `'artist'`: nombre del artista;\n",
    "- `'genre'`: género de la pista;\n",
    "- `'City'`: ciudad del usuario o la usuaria;\n",
    "- `'time'`: la hora exacta en la que se reprodujo la canción;\n",
    "- `'Day'`: día de la semana.\n",
    "\n",
    "Podemos ver tres problemas con el estilo en los encabezados de la tabla:\n",
    "1. Algunos encabezados están en mayúsculas, otros en minúsculas.\n",
    "2. Hay espacios en algunos encabezados.\n",
    "3. Hay palabras escritas unidas, mejor usar _.\n",
    "\n",
    "\n"
   ]
  },
  {
   "cell_type": "code",
   "execution_count": 5,
   "metadata": {},
   "outputs": [
    {
     "data": {
      "text/plain": [
       "3826"
      ]
     },
     "execution_count": 5,
     "metadata": {},
     "output_type": "execute_result"
    }
   ],
   "source": [
    "df.duplicated().sum()"
   ]
  },
  {
   "cell_type": "markdown",
   "metadata": {
    "id": "MCB6-dXG_Zct"
   },
   "source": [
    "### Observaciones  <a id='data_review_conclusions'></a>\n",
    "\n",
    "`1.   ¿Qué tipo de datos tenemos a nuestra disposición en las filas? ¿Y cómo podemos entender lo que almacenan las columnas?`\n",
    "  Sabemos que en las filas tenemos un número de usuario, que identifica una persona, este número es único para cada individuo. También esta el track que es el nombre de la canción que esta escuchando, el artista de la canción, el genero, y la cuidad, la hora y el día de la semana en la que esta escuchando esa canción en específico.\n",
    "\n",
    "`2.   ¿Hay suficientes datos para proporcionar respuestas a nuestra hipótesis o necesitamos más información?`\n",
    "    Si hay suficientes datos, realmente no hay muchos elementos faltantes, solamente en track, artist y genre. En el que hay más elementos nulos es en artistas, pero creo que si esta fila tiene la información de la canción se puede saber cuál es el artísta. Lo mismo se puede hacer con los faltantes de género, si se tiene el track o el artísta se puede saber cual es el género. \n",
    "\n",
    "`3.   ¿Notaste algún problema en los datos, como valores ausentes, duplicados o tipos de datos incorrectos?`\n",
    "Si observe que hay datos ausentes en track, artist y genre, y también hay varios datos duplicados(3826), también hay unos datos que tiene tildes "
   ]
  },
  {
   "cell_type": "markdown",
   "metadata": {
    "id": "3eL__vcwViOi"
   },
   "source": [
    "[Volver a Contenidos](#back)"
   ]
  },
  {
   "cell_type": "markdown",
   "metadata": {
    "id": "SjYF6Ub9_Zct"
   },
   "source": [
    "## Etapa 2. Preprocesamiento de datos <a id='data_preprocessing'></a>\n",
    "\n",
    "El objetivo aquí es preparar los datos para que sean analizados.\n",
    "El primer paso es resolver cualquier problema con los encabezados. Luego podemos avanzar a los valores ausentes y duplicados. Empecemos.\n",
    "\n",
    "Corrige el formato en los encabezados de la tabla.\n"
   ]
  },
  {
   "cell_type": "markdown",
   "metadata": {
    "id": "dIaKXr29_Zct"
   },
   "source": [
    "### Estilo del encabezado <a id='header_style'></a>\n",
    "Muestra los encabezados de la tabla (los nombres de las columnas):"
   ]
  },
  {
   "cell_type": "code",
   "execution_count": 6,
   "metadata": {
    "id": "oKOTdF_Q_Zct"
   },
   "outputs": [
    {
     "data": {
      "text/plain": [
       "Index(['  userID', 'Track', 'artist', 'genre', '  City  ', 'time', 'Day'], dtype='object')"
      ]
     },
     "execution_count": 6,
     "metadata": {},
     "output_type": "execute_result"
    }
   ],
   "source": [
    "# Muestra los nombres de las columnas\n",
    "df.columns"
   ]
  },
  {
   "cell_type": "markdown",
   "metadata": {
    "id": "zj5534cv_Zct"
   },
   "source": [
    "Cambia los encabezados de la tabla de acuerdo con las reglas del buen estilo:\n",
    "* Todos los caracteres deben ser minúsculas.\n",
    "* Elimina los espacios.\n",
    "* Si el nombre tiene varias palabras, utiliza snake_case."
   ]
  },
  {
   "cell_type": "markdown",
   "metadata": {
    "id": "Xu0zkfe5zNJe"
   },
   "source": [
    "Anteriormente, aprendiste acerca de la forma automática de cambiar el nombre de las columnas. Vamos a aplicarla ahora. Utiliza el bucle for para iterar sobre los nombres de las columnas y poner todos los caracteres en minúsculas. Cuando hayas terminado, vuelve a mostrar los encabezados de la tabla:"
   ]
  },
  {
   "cell_type": "code",
   "execution_count": 7,
   "metadata": {
    "id": "6I_RwwMhzM4e"
   },
   "outputs": [
    {
     "data": {
      "text/plain": [
       "Index(['  userid', 'track', 'artist', 'genre', '  city  ', 'time', 'day'], dtype='object')"
      ]
     },
     "execution_count": 7,
     "metadata": {},
     "output_type": "execute_result"
    }
   ],
   "source": [
    "# Bucle en los encabezados poniendo todo en minúsculas\n",
    "new_col_names=[]\n",
    "for old_name in df.columns:\n",
    "    name_lowered = old_name.lower()\n",
    "    new_col_names.append(name_lowered)\n",
    "    \n",
    "# Reemplaza los nombres anteriores por los nuevos\n",
    "df.columns = new_col_names \n",
    "\n",
    "df.columns"
   ]
  },
  {
   "cell_type": "markdown",
   "metadata": {
    "id": "pweIRxjSzPYW"
   },
   "source": [
    "Ahora, utilizando el mismo método, elimina los espacios al principio y al final de los nombres de las columnas e imprime los nombres de las columnas nuevamente:"
   ]
  },
  {
   "cell_type": "code",
   "execution_count": 8,
   "metadata": {
    "id": "vVQXbFyJzSYl"
   },
   "outputs": [
    {
     "data": {
      "text/plain": [
       "Index(['userid', 'track', 'artist', 'genre', 'city', 'time', 'day'], dtype='object')"
      ]
     },
     "execution_count": 8,
     "metadata": {},
     "output_type": "execute_result"
    }
   ],
   "source": [
    "# Bucle en los encabezados eliminando los espacios\n",
    "new_col_names=[]\n",
    "for old_name in df.columns:\n",
    "    name_stripped = old_name.strip()\n",
    "    new_col_names.append(name_stripped)\n",
    "    \n",
    "# Reemplaza los nombres anteriores por los nuevos\n",
    "df.columns = new_col_names \n",
    "\n",
    "df.columns\n"
   ]
  },
  {
   "cell_type": "markdown",
   "metadata": {
    "id": "yCb8MW1JzURd"
   },
   "source": [
    "Necesitamos aplicar la regla de snake_case a la columna `userid`. Debe ser `user_id`. Cambia el nombre de esta columna y muestra los nombres de todas las columnas cuando hayas terminado."
   ]
  },
  {
   "cell_type": "code",
   "execution_count": 9,
   "metadata": {
    "id": "ISlFqs5y_Zct"
   },
   "outputs": [
    {
     "data": {
      "text/plain": [
       "Index(['user_id', 'track', 'artist', 'genre', 'city', 'time', 'day'], dtype='object')"
      ]
     },
     "execution_count": 9,
     "metadata": {},
     "output_type": "execute_result"
    }
   ],
   "source": [
    "# Cambiar el nombre de la columna \"userid\"\n",
    "df = df.rename(columns={'userid': 'user_id'})\n",
    "\n",
    "df.columns"
   ]
  },
  {
   "cell_type": "markdown",
   "metadata": {
    "id": "1dqbh00J_Zct"
   },
   "source": [
    "Comprueba el resultado. Muestra los encabezados una vez más:"
   ]
  },
  {
   "cell_type": "code",
   "execution_count": 10,
   "metadata": {
    "id": "d4NOAmTW_Zct"
   },
   "outputs": [
    {
     "data": {
      "text/plain": [
       "Index(['user_id', 'track', 'artist', 'genre', 'city', 'time', 'day'], dtype='object')"
      ]
     },
     "execution_count": 10,
     "metadata": {},
     "output_type": "execute_result"
    }
   ],
   "source": [
    "# Comprobar el resultado: la lista de encabezados\n",
    "df.columns"
   ]
  },
  {
   "cell_type": "markdown",
   "metadata": {
    "id": "xYJk6ksJVpOl"
   },
   "source": [
    "[Volver a Contenidos](#back)"
   ]
  },
  {
   "cell_type": "markdown",
   "metadata": {
    "id": "5ISfbcfY_Zct"
   },
   "source": [
    "### Valores ausentes <a id='missing_values'></a>\n",
    " Primero, encuentra el número de valores ausentes en la tabla. Debes utilizar dos métodos en una secuencia para obtener el número de valores ausentes."
   ]
  },
  {
   "cell_type": "code",
   "execution_count": 11,
   "metadata": {
    "id": "RskX29qr_Zct"
   },
   "outputs": [
    {
     "name": "stdout",
     "output_type": "stream",
     "text": [
      "user_id       0\n",
      "track      1343\n",
      "artist     7567\n",
      "genre      1198\n",
      "city          0\n",
      "time          0\n",
      "day           0\n",
      "dtype: int64\n"
     ]
    }
   ],
   "source": [
    "# Calcular el número de valores ausentes\n",
    "print (df.isna().sum())"
   ]
  },
  {
   "cell_type": "markdown",
   "metadata": {
    "id": "qubhgnlO_Zct"
   },
   "source": [
    "No todos los valores ausentes afectan a la investigación. Por ejemplo, los valores ausentes en `track` y `artist` no son cruciales. Simplemente puedes reemplazarlos con valores predeterminados como el string `'unknown'` (desconocido).\n",
    "\n",
    "Pero los valores ausentes en `'genre'` pueden afectar la comparación entre las preferencias musicales de Springfield y Shelbyville. En la vida real, sería útil saber las razones por las cuales hay datos ausentes e intentar recuperarlos. Pero no tenemos esa oportunidad en este proyecto. Así que tendrás que:\n",
    "* rellenar estos valores ausentes con un valor predeterminado;\n",
    "* evaluar cuánto podrían afectar los valores ausentes a tus cómputos;"
   ]
  },
  {
   "cell_type": "markdown",
   "metadata": {
    "id": "fSv2laPA_Zct"
   },
   "source": [
    "Reemplazar los valores ausentes en las columnas `'track'`, `'artist'` y `'genre'` con el string `'unknown'`. Como mostramos anteriormente en las lecciones, la mejor forma de hacerlo es crear una lista que almacene los nombres de las columnas donde se necesita el reemplazo. Luego, utiliza esta lista e itera sobre las columnas donde se necesita el reemplazo haciendo el propio reemplazo."
   ]
  },
  {
   "cell_type": "code",
   "execution_count": 12,
   "metadata": {
    "id": "KplB5qWs_Zct"
   },
   "outputs": [],
   "source": [
    "# Bucle en los encabezados reemplazando los valores ausentes con 'unknown'\n",
    "#se crea la lista donde se va a remplazar\n",
    "col_to_replace=['track', 'artist' ,'genre']\n",
    "\n",
    "for i in col_to_replace:\n",
    "    df[i]=df[i].fillna('unknown')"
   ]
  },
  {
   "cell_type": "markdown",
   "metadata": {
    "id": "Ilsm-MZo_Zct"
   },
   "source": [
    "Ahora comprueba el resultado para asegurarte de que después del reemplazo no haya valores ausentes en el conjunto de datos. Para hacer esto, cuenta los valores ausentes nuevamente."
   ]
  },
  {
   "cell_type": "code",
   "execution_count": 13,
   "metadata": {
    "id": "Tq4nYRX4_Zct"
   },
   "outputs": [
    {
     "name": "stdout",
     "output_type": "stream",
     "text": [
      "user_id    0\n",
      "track      0\n",
      "artist     0\n",
      "genre      0\n",
      "city       0\n",
      "time       0\n",
      "day        0\n",
      "dtype: int64\n"
     ]
    }
   ],
   "source": [
    "# Contar valores ausentes\n",
    "print (df.isna().sum())"
   ]
  },
  {
   "cell_type": "markdown",
   "metadata": {
    "id": "74ZIBmq9VrsK"
   },
   "source": [
    "[Volver a Contenidos](#back)"
   ]
  },
  {
   "cell_type": "markdown",
   "metadata": {
    "id": "BWKRtBJ3_Zct"
   },
   "source": [
    "### Duplicados <a id='duplicates'></a>\n",
    "Encuentra el número de duplicados explícitos en la tabla. Una vez más, debes aplicar dos métodos en una secuencia para obtener la cantidad de duplicados explícitos."
   ]
  },
  {
   "cell_type": "code",
   "execution_count": 14,
   "metadata": {
    "id": "36eES_S0_Zct"
   },
   "outputs": [
    {
     "data": {
      "text/plain": [
       "3826"
      ]
     },
     "execution_count": 14,
     "metadata": {},
     "output_type": "execute_result"
    }
   ],
   "source": [
    "# Contar duplicados explícitos\n",
    "df.duplicated().sum()"
   ]
  },
  {
   "cell_type": "markdown",
   "metadata": {
    "id": "Ot25h6XR_Zct"
   },
   "source": [
    "Ahora, elimina todos los duplicados. Para ello, llama al método que hace exactamente esto."
   ]
  },
  {
   "cell_type": "code",
   "execution_count": 15,
   "metadata": {
    "id": "exFHq6tt_Zct"
   },
   "outputs": [],
   "source": [
    "# Eliminar duplicados explícitos\n",
    "# se resetean los indices\n",
    "df=df.drop_duplicates().reset_index(drop=True)"
   ]
  },
  {
   "cell_type": "markdown",
   "metadata": {
    "id": "Im2YwBEG_Zct"
   },
   "source": [
    "Comprobemos ahora si eliminamos con éxito todos los duplicados. Cuenta los duplicados explícitos una vez más para asegurarte de haberlos eliminado todos:"
   ]
  },
  {
   "cell_type": "code",
   "execution_count": 16,
   "metadata": {
    "id": "-8PuNWQ0_Zct"
   },
   "outputs": [
    {
     "data": {
      "text/plain": [
       "0"
      ]
     },
     "execution_count": 16,
     "metadata": {},
     "output_type": "execute_result"
    }
   ],
   "source": [
    "# Comprobar de nuevo si hay duplicados\n",
    "df.duplicated().sum()\n"
   ]
  },
  {
   "cell_type": "markdown",
   "metadata": {
    "id": "QlFBsxAr_Zct"
   },
   "source": [
    "Ahora queremos deshacernos de los duplicados implícitos en la columna `genre`. Por ejemplo, el nombre de un género se puede escribir de varias formas. Dichos errores también pueden afectar al resultado."
   ]
  },
  {
   "cell_type": "markdown",
   "metadata": {
    "id": "eSjWwsOh_Zct"
   },
   "source": [
    "Para hacerlo, primero mostremos una lista de nombres de género únicos, ordenados en orden alfabético. Para ello:\n",
    "* Extrae la columna `genre` del DataFrame.\n",
    "* Llama al método que devolverá todos los valores únicos en la columna extraída.\n"
   ]
  },
  {
   "cell_type": "code",
   "execution_count": 17,
   "metadata": {
    "id": "JIUcqzZN_Zct"
   },
   "outputs": [],
   "source": [
    "# Inspeccionar los nombres de géneros únicos\n",
    "unique_value=df['genre'].unique()\n"
   ]
  },
  {
   "cell_type": "markdown",
   "metadata": {
    "id": "qej-Qmuo_Zct"
   },
   "source": [
    "Busca en la lista para encontrar duplicados implícitos del género `hiphop`. Estos pueden ser nombres escritos incorrectamente o nombres alternativos para el mismo género.\n",
    "\n",
    "Verás los siguientes duplicados implícitos:\n",
    "* `hip`\n",
    "* `hop`\n",
    "* `hip-hop`\n",
    "\n",
    "Para deshacerte de ellos, crea una función llamada `replace_wrong_genres()` con dos parámetros:\n",
    "* `wrong_genres=`: esta es una lista que contiene todos los valores que necesitas reemplazar.\n",
    "* `correct_genre=`: este es un string que vas a utilizar como reemplazo.\n",
    "\n",
    "Como resultado, la función debería corregir los nombres en la columna `'genre'` de la tabla `df`, es decir, remplazar cada valor de la lista `wrong_genres` por el valor en `correct_genre`.\n",
    "\n",
    "Dentro del cuerpo de la función, utiliza un bucle `'for'` para iterar sobre la lista de géneros incorrectos, extrae la columna `'genre'` y aplica el método `replace` para hacer correcciones."
   ]
  },
  {
   "cell_type": "code",
   "execution_count": 18,
   "metadata": {
    "id": "ErNDkmns_Zct"
   },
   "outputs": [],
   "source": [
    "# Función para reemplazar duplicados implícitos\n",
    "def replace_wrong_genres(wrong_genres,correct_genre):\n",
    "    for i in wrong_genres:\n",
    "        df['genre']=df['genre'].replace(i,correct_genre, inplace=True)\n",
    "        "
   ]
  },
  {
   "cell_type": "markdown",
   "metadata": {
    "id": "aDoBJxbA_Zct"
   },
   "source": [
    "Ahora, llama a `replace_wrong_genres()` y pásale tales argumentos para que retire los duplicados implícitos (`hip`, `hop` y `hip-hop`) y los reemplace por `hiphop`:"
   ]
  },
  {
   "cell_type": "code",
   "execution_count": 19,
   "metadata": {
    "id": "YN5i2hpmSo09"
   },
   "outputs": [],
   "source": [
    "# Eliminar duplicados implícitos\n",
    "replace_wrong_genres(['hip','hop','hip-hop'],'hiphop')"
   ]
  },
  {
   "cell_type": "markdown",
   "metadata": {
    "id": "zQKF16_RG15m"
   },
   "source": [
    "Asegúrate de que los nombres duplicados han sido eliminados. Muestra la lista de valores únicos de la columna `'genre'` una vez más:"
   ]
  },
  {
   "cell_type": "code",
   "execution_count": 20,
   "metadata": {
    "id": "wvixALnFG15m"
   },
   "outputs": [
    {
     "data": {
      "text/plain": [
       "array([None], dtype=object)"
      ]
     },
     "execution_count": 20,
     "metadata": {},
     "output_type": "execute_result"
    }
   ],
   "source": [
    "# Comprobación de duplicados implícitos\n",
    "df['genre'].unique()\n"
   ]
  },
  {
   "cell_type": "markdown",
   "metadata": {
    "id": "ALgNbvF3VtPA"
   },
   "source": [
    "[Volver a Contenidos](#back)"
   ]
  },
  {
   "cell_type": "markdown",
   "metadata": {
    "id": "jz6a9-7HQUDd"
   },
   "source": [
    "### Tus observaciones <a id='data_preprocessing_conclusions'></a>\n",
    "\n",
    "`Describe brevemente lo que has notado al analizar duplicados, cómo abordaste sus eliminaciones y qué resultados obtuviste.`\n",
    "\n",
    "En el archivo habían varias filas que estaban duplicadas, estos duplicados explicitos son más fáciles de identificar y eliminar. Para los duplicados no explicitos, ocurren por errores de tipeo o diferentes maneras de escribir una cosa, para este hay que ver cuales son los valores único y ver si tienen una correlación con otros datos, en caso de que si tengan una relación con otro dato y esté escrito de manera erronea hay que identificar estos y remplazarlo con el nombre correcto."
   ]
  },
  {
   "cell_type": "markdown",
   "metadata": {
    "id": "eK1es74rVujj"
   },
   "source": [
    "[Volver a Contenidos](#back)"
   ]
  },
  {
   "cell_type": "markdown",
   "metadata": {
    "id": "WttZHXH0SqKk"
   },
   "source": [
    "## Etapa 3. Prueba de hipótesis <a id='hypothesis'></a>"
   ]
  },
  {
   "cell_type": "markdown",
   "metadata": {
    "id": "Im936VVi_Zcu"
   },
   "source": [
    "### Hipótesis: comparar el comportamiento del usuario o la usuaria en las dos ciudades <a id='activity'></a>"
   ]
  },
  {
   "cell_type": "markdown",
   "metadata": {
    "id": "nwt_MuaL_Zcu"
   },
   "source": [
    "La hipótesis afirma que existen diferencias en la forma en que los usuarios y las usuarias de Springfield y Shelbyville consumen música. Para comprobar esto, usa los datos de tres días de la semana: lunes, miércoles y viernes.\n",
    "\n",
    "* Agrupa a los usuarios y las usuarias por ciudad.\n",
    "* Compara el número de canciones que cada grupo reprodujo el lunes, el miércoles y el viernes.\n"
   ]
  },
  {
   "cell_type": "markdown",
   "metadata": {
    "id": "8Dw_YMmT_Zcu"
   },
   "source": [
    "Realiza cada cálculo por separado.\n",
    "\n",
    "El primer paso es evaluar la actividad del usuario en cada ciudad. Recuerda las etapas dividir-aplicar-combinar de las que hablamos anteriormente en la lección. Tu objetivo ahora es agrupar los datos por ciudad, aplicar el método apropiado para contar durante la etapa de aplicación y luego encontrar la cantidad de canciones reproducidas en cada grupo especificando la columna para obtener el recuento.\n",
    "\n",
    "A continuación se muestra un ejemplo de cómo debería verse el resultado final:\n",
    "`df.groupby(by='....')['column'].method()`Realiza cada cálculo por separado.\n",
    "\n",
    "Para evaluar la actividad de los usuarios y las usuarias en cada ciudad, agrupa los datos por ciudad y encuentra la cantidad de canciones reproducidas en cada grupo.\n",
    "\n"
   ]
  },
  {
   "cell_type": "code",
   "execution_count": 21,
   "metadata": {
    "id": "0_Qs96oh_Zcu"
   },
   "outputs": [
    {
     "data": {
      "text/plain": [
       "city\n",
       "Shelbyville    18512\n",
       "Springfield    42741\n",
       "Name: track, dtype: int64"
      ]
     },
     "execution_count": 21,
     "metadata": {},
     "output_type": "execute_result"
    }
   ],
   "source": [
    "# Contar las canciones reproducidas en cada ciudad\n",
    "df.groupby('city')['track'].count()\n"
   ]
  },
  {
   "cell_type": "markdown",
   "metadata": {
    "id": "t_Qx-3NewAnK"
   },
   "source": [
    "`Comenta tus observaciones aquí`\n",
    "Con esto se observa que en springfield han reproducido más canciones que en Shelbyville"
   ]
  },
  {
   "cell_type": "markdown",
   "metadata": {
    "id": "dzli3w8o_Zcu"
   },
   "source": [
    "Ahora agrupemos los datos por día de la semana y encontremos el número de canciones reproducidas el lunes, miércoles y viernes. Utiliza el mismo método que antes, pero ahora necesitamos una agrupación diferente.\n"
   ]
  },
  {
   "cell_type": "code",
   "execution_count": 22,
   "metadata": {
    "id": "uZMKjiJz_Zcu"
   },
   "outputs": [
    {
     "data": {
      "text/plain": [
       "day\n",
       "Friday       21840\n",
       "Monday       21354\n",
       "Wednesday    18059\n",
       "Name: track, dtype: int64"
      ]
     },
     "execution_count": 22,
     "metadata": {},
     "output_type": "execute_result"
    }
   ],
   "source": [
    "# Calcular las canciones reproducidas en cada uno de los tres días\n",
    "df.groupby('day')['track'].count()"
   ]
  },
  {
   "cell_type": "markdown",
   "metadata": {
    "id": "cC2tNrlL_Zcu"
   },
   "source": [
    "Observaciones\n",
    "\n",
    "Los días viernes y lunes son donde más escuchan música, mientras que los miercoles es el día en que menos se reproduce música"
   ]
  },
  {
   "cell_type": "markdown",
   "metadata": {
    "id": "POzs8bGa_Zcu"
   },
   "source": [
    "Ya sabes cómo contar entradas agrupándolas por ciudad o día. Ahora necesitas escribir una función que pueda contar entradas según ambos criterios simultáneamente.\n",
    "\n",
    "Crea la función `number_tracks()` para calcular el número de canciones reproducidas en un determinado día **y** ciudad. La función debe aceptar dos parámetros:\n",
    "\n",
    "- `day`: un día de la semana para filtrar. Por ejemplo, `'Monday'` (lunes).\n",
    "- `city`: una ciudad para filtrar. Por ejemplo, `'Springfield'`.\n",
    "\n",
    "Dentro de la función, aplicarás un filtrado consecutivo con indexación lógica.\n",
    "\n",
    "Primero filtra los datos por día y luego filtra la tabla resultante por ciudad.\n",
    "\n",
    "Después de filtrar los datos por dos criterios, cuenta el número de valores de la columna 'user_id' en la tabla resultante. Este recuento representa el número de entradas que estás buscando. Guarda el resultado en una nueva variable y devuélvelo desde la función."
   ]
  },
  {
   "cell_type": "code",
   "execution_count": 23,
   "metadata": {
    "id": "Nz3GdQB1_Zcu"
   },
   "outputs": [],
   "source": [
    "# Declara la función number_tracks() con dos parámetros: day= y city=.\n",
    "def number_tracks(day='day',city='city'):\n",
    "    \n",
    "    # Almacena las filas del DataFrame donde el valor en la columna 'day' es igual al parámetro day=\n",
    "    new_df= df[df['day']==day]\n",
    "\n",
    "    # Filtra las filas donde el valor en la columna 'city' es igual al parámetro city=\n",
    "    df_2= new_df[new_df['city']==city]\n",
    "\n",
    "    # Extrae la columna 'user_id' de la tabla filtrada y aplica el método count()\n",
    "    count=df_2['user_id'].count()\n",
    "\n",
    "    # Devolve el número de valores de la columna 'user_id'\n",
    "    return count"
   ]
  },
  {
   "cell_type": "markdown",
   "metadata": {
    "id": "ytf7xFrFJQ2r"
   },
   "source": [
    "Llama a `number_tracks()` seis veces, cambiando los valores de los parámetros para que recuperes los datos de ambas ciudades para cada uno de los tres días."
   ]
  },
  {
   "cell_type": "code",
   "execution_count": 24,
   "metadata": {
    "id": "rJcRATNQ_Zcu"
   },
   "outputs": [
    {
     "name": "stdout",
     "output_type": "stream",
     "text": [
      "15740\n"
     ]
    }
   ],
   "source": [
    "# El número de canciones reproducidas en Springfield el lunes\n",
    "m_sp=number_tracks('Monday', 'Springfield')\n",
    "print(m_sp)"
   ]
  },
  {
   "cell_type": "code",
   "execution_count": 25,
   "metadata": {
    "id": "hq_ncZ5T_Zcu"
   },
   "outputs": [
    {
     "name": "stdout",
     "output_type": "stream",
     "text": [
      "5614\n"
     ]
    }
   ],
   "source": [
    "# El número de canciones reproducidas en Shelbyville el lunes\n",
    "m_sh=number_tracks('Monday', 'Shelbyville')\n",
    "print(m_sh)"
   ]
  },
  {
   "cell_type": "code",
   "execution_count": 26,
   "metadata": {
    "id": "_NTy2VPU_Zcu"
   },
   "outputs": [
    {
     "name": "stdout",
     "output_type": "stream",
     "text": [
      "11056\n"
     ]
    }
   ],
   "source": [
    "# El número de canciones reproducidas en Springfield el miércoles\n",
    "w_sp=number_tracks('Wednesday','Springfield')\n",
    "print(w_sp)"
   ]
  },
  {
   "cell_type": "code",
   "execution_count": 27,
   "metadata": {
    "id": "j2y3TAwo_Zcu"
   },
   "outputs": [
    {
     "name": "stdout",
     "output_type": "stream",
     "text": [
      "7003\n"
     ]
    }
   ],
   "source": [
    "# El número de canciones reproducidas en Shelbyville el miércoles\n",
    "w_sh=number_tracks('Wednesday','Shelbyville')\n",
    "print(w_sh)"
   ]
  },
  {
   "cell_type": "code",
   "execution_count": 28,
   "metadata": {
    "id": "vYDw5u_K_Zcu"
   },
   "outputs": [
    {
     "name": "stdout",
     "output_type": "stream",
     "text": [
      "15945\n"
     ]
    }
   ],
   "source": [
    "# El número de canciones reproducidas en Springfield el viernes\n",
    "f_sp=number_tracks('Friday','Springfield')\n",
    "print(f_sp)"
   ]
  },
  {
   "cell_type": "code",
   "execution_count": 29,
   "metadata": {
    "id": "8_yzFtW3_Zcu"
   },
   "outputs": [
    {
     "name": "stdout",
     "output_type": "stream",
     "text": [
      "5895\n"
     ]
    }
   ],
   "source": [
    "# El número de canciones reproducidas en Shelbyville el viernes\n",
    "f_sh=number_tracks('Friday','Shelbyville')\n",
    "print(f_sh)"
   ]
  },
  {
   "cell_type": "markdown",
   "metadata": {},
   "source": [
    "Pongo todos los datos obtenido en un data frame para visualizarlos mejor"
   ]
  },
  {
   "cell_type": "code",
   "execution_count": 30,
   "metadata": {},
   "outputs": [
    {
     "name": "stdout",
     "output_type": "stream",
     "text": [
      "         day         city  quantity\n",
      "0     Monday  Springfield     15740\n",
      "1     Monday  Shelbyville      5614\n",
      "2  Wednesday  Springfield     11056\n",
      "3  Wednesday  Shelbyville      7003\n",
      "4     Friday  Springfield     15945\n",
      "5     Friday  Shelbyville      5895\n"
     ]
    }
   ],
   "source": [
    "\n",
    "list_music = [\n",
    "    ['Monday', 'Springfield', m_sp],\n",
    "    ['Monday', 'Shelbyville', m_sh],\n",
    "    ['Wednesday', 'Springfield', w_sp],\n",
    "    ['Wednesday', 'Shelbyville', w_sh],\n",
    "    ['Friday', 'Springfield', f_sp],\n",
    "    ['Friday', 'Shelbyville', f_sh],\n",
    "    \n",
    "]\n",
    "\n",
    "df_list_music = pd.DataFrame(list_music, columns=['day', 'city', 'quantity'])\n",
    "\n",
    "print(df_list_music)"
   ]
  },
  {
   "cell_type": "markdown",
   "metadata": {
    "id": "-EgPIHYu_Zcu"
   },
   "source": [
    "**Conclusiones**\n",
    "\n",
    "\n",
    "\n",
    "Hipótesis: La actividad de los usuarios y las usuarias difiere según el día de la semana y dependiendo de la ciudad.\n",
    "\n",
    "La hipótesis es correcta, se puede observar que la actividad de los usuarios varia de manera significativa dependiendo de la ciudad,todos los días de la semana la actividad de los usuarios es mucho mayor en Springfield que en Shelbyville. Y también se observa en Springfield que el miercóles es el día en que hay menos actividad y el día en que más es el viernes, mientras que en Shelbyville es el día lunes hay menor actividad, y el día miercoles hay más. \n"
   ]
  },
  {
   "cell_type": "markdown",
   "metadata": {
    "id": "p7nFQajCVw5B"
   },
   "source": [
    "[Volver a Contenidos](#back)"
   ]
  },
  {
   "cell_type": "markdown",
   "metadata": {
    "id": "ykKQ0N65_Zcv"
   },
   "source": [
    "# Conclusiones <a id='end'></a>"
   ]
  },
  {
   "cell_type": "markdown",
   "metadata": {
    "id": "tjUwbHb3_Zcv"
   },
   "source": [
    "\n",
    "Para concluir se puede decir que la actividad de los usuarios depende de la ciudad y del día. Se observa que todos los día hay más actividad de los usuarios en Springfield, y la diferencia entre ambas ciudades es significativa, en Springfield hay un total de 42,741 y en Shelbyvile son 18,512. También se ve que los días en que hay más actividad en cada ciudad es diferente, para Springfield es el Viernes, mientra que en Shelbyville es el miercoles y el día en que hay menos también es diferente, para Springfield es el miercoles y en Shelbyville es el lunes. Esta diferencia de la actividad de los usuarios se puede deber al tamaño de la cuidad y la cantidad de personas que viven en ella, así como la edad de la población, facilidad de acceso que tenga cada persona para poder escuchar música, las actividades que se desarrollen en ella entre otros factores."
   ]
  },
  {
   "cell_type": "markdown",
   "metadata": {
    "id": "Ju4AHDSgV1FE"
   },
   "source": [
    "[Volver a Contenidos](#back)"
   ]
  }
 ],
 "metadata": {
  "ExecuteTimeLog": [
   {
    "duration": 331,
    "start_time": "2024-09-12T17:26:01.438Z"
   },
   {
    "duration": 127,
    "start_time": "2024-09-12T17:26:40.190Z"
   },
   {
    "duration": 13,
    "start_time": "2024-09-12T17:26:47.174Z"
   },
   {
    "duration": 89,
    "start_time": "2024-09-12T17:27:18.317Z"
   },
   {
    "duration": 22,
    "start_time": "2024-09-12T17:28:39.799Z"
   },
   {
    "duration": 40,
    "start_time": "2024-09-12T17:42:29.808Z"
   },
   {
    "duration": 185,
    "start_time": "2024-09-12T17:44:15.293Z"
   },
   {
    "duration": 142,
    "start_time": "2024-09-12T17:44:52.264Z"
   },
   {
    "duration": 42,
    "start_time": "2024-09-12T17:45:53.095Z"
   },
   {
    "duration": 46,
    "start_time": "2024-09-12T17:49:04.340Z"
   },
   {
    "duration": 85,
    "start_time": "2024-09-12T17:51:44.862Z"
   },
   {
    "duration": 41,
    "start_time": "2024-09-12T17:52:08.060Z"
   },
   {
    "duration": 39,
    "start_time": "2024-09-12T17:52:15.028Z"
   },
   {
    "duration": 46,
    "start_time": "2024-09-12T17:54:39.388Z"
   },
   {
    "duration": 40,
    "start_time": "2024-09-12T17:55:03.925Z"
   },
   {
    "duration": 8,
    "start_time": "2024-09-12T17:55:25.633Z"
   },
   {
    "duration": 457,
    "start_time": "2024-09-12T17:58:12.056Z"
   },
   {
    "duration": 8,
    "start_time": "2024-09-12T17:58:21.715Z"
   },
   {
    "duration": 13,
    "start_time": "2024-09-12T18:02:14.228Z"
   },
   {
    "duration": 39,
    "start_time": "2024-09-12T18:04:39.660Z"
   },
   {
    "duration": 36,
    "start_time": "2024-09-12T18:04:49.031Z"
   },
   {
    "duration": 9,
    "start_time": "2024-09-12T18:05:10.059Z"
   },
   {
    "duration": 6,
    "start_time": "2024-09-12T18:09:08.147Z"
   },
   {
    "duration": 8,
    "start_time": "2024-09-12T18:15:18.551Z"
   },
   {
    "duration": 18,
    "start_time": "2024-09-12T18:19:22.273Z"
   },
   {
    "duration": 12,
    "start_time": "2024-09-12T18:20:17.673Z"
   },
   {
    "duration": 8,
    "start_time": "2024-09-12T18:27:38.847Z"
   },
   {
    "duration": 9,
    "start_time": "2024-09-12T18:28:09.713Z"
   },
   {
    "duration": 12,
    "start_time": "2024-09-12T18:29:29.826Z"
   },
   {
    "duration": 9,
    "start_time": "2024-09-12T18:30:03.993Z"
   },
   {
    "duration": 9,
    "start_time": "2024-09-12T18:30:07.297Z"
   },
   {
    "duration": 12,
    "start_time": "2024-09-12T18:34:11.455Z"
   },
   {
    "duration": 9,
    "start_time": "2024-09-12T18:34:29.808Z"
   },
   {
    "duration": 7,
    "start_time": "2024-09-12T18:36:56.483Z"
   },
   {
    "duration": 13,
    "start_time": "2024-09-12T18:37:05.058Z"
   },
   {
    "duration": 3,
    "start_time": "2024-09-12T18:37:57.929Z"
   },
   {
    "duration": 4,
    "start_time": "2024-09-12T18:38:16.248Z"
   },
   {
    "duration": 4,
    "start_time": "2024-09-12T18:38:23.671Z"
   },
   {
    "duration": 4,
    "start_time": "2024-09-12T18:38:30.526Z"
   },
   {
    "duration": 7,
    "start_time": "2024-09-12T18:38:38.556Z"
   },
   {
    "duration": 4,
    "start_time": "2024-09-12T18:38:45.543Z"
   },
   {
    "duration": 18,
    "start_time": "2024-09-12T18:44:00.223Z"
   },
   {
    "duration": 17,
    "start_time": "2024-09-12T18:44:11.438Z"
   },
   {
    "duration": 13,
    "start_time": "2024-09-12T18:49:13.285Z"
   },
   {
    "duration": 17,
    "start_time": "2024-09-12T18:49:35.994Z"
   },
   {
    "duration": 10,
    "start_time": "2024-09-12T18:49:55.691Z"
   },
   {
    "duration": 10,
    "start_time": "2024-09-12T18:50:26.479Z"
   },
   {
    "duration": 43,
    "start_time": "2024-09-12T18:51:20.162Z"
   },
   {
    "duration": 49,
    "start_time": "2024-09-12T18:52:35.042Z"
   },
   {
    "duration": 39,
    "start_time": "2024-09-12T18:52:59.227Z"
   },
   {
    "duration": 14,
    "start_time": "2024-09-12T18:54:22.524Z"
   },
   {
    "duration": 5,
    "start_time": "2024-09-12T18:54:29.136Z"
   },
   {
    "duration": 5,
    "start_time": "2024-09-12T18:54:36.252Z"
   },
   {
    "duration": 5,
    "start_time": "2024-09-12T18:55:04.818Z"
   },
   {
    "duration": 6,
    "start_time": "2024-09-12T18:55:18.166Z"
   },
   {
    "duration": 4,
    "start_time": "2024-09-12T19:11:19.626Z"
   },
   {
    "duration": 3,
    "start_time": "2024-09-12T19:11:25.165Z"
   },
   {
    "duration": 3,
    "start_time": "2024-09-12T19:11:40.051Z"
   },
   {
    "duration": 7,
    "start_time": "2024-09-12T19:13:04.847Z"
   },
   {
    "duration": 7,
    "start_time": "2024-09-12T19:14:29.021Z"
   },
   {
    "duration": 5,
    "start_time": "2024-09-12T19:15:04.658Z"
   },
   {
    "duration": 5,
    "start_time": "2024-09-12T20:13:20.284Z"
   },
   {
    "duration": 5,
    "start_time": "2024-09-12T20:15:02.762Z"
   },
   {
    "duration": 3,
    "start_time": "2024-09-12T20:16:27.469Z"
   },
   {
    "duration": 3,
    "start_time": "2024-09-12T20:16:48.122Z"
   },
   {
    "duration": 9,
    "start_time": "2024-09-12T20:17:06.911Z"
   },
   {
    "duration": 9,
    "start_time": "2024-09-12T20:17:51.161Z"
   },
   {
    "duration": 9,
    "start_time": "2024-09-12T20:20:12.284Z"
   },
   {
    "duration": 3,
    "start_time": "2024-09-12T20:34:22.060Z"
   },
   {
    "duration": 13,
    "start_time": "2024-09-12T20:35:10.669Z"
   },
   {
    "duration": 381,
    "start_time": "2024-09-12T20:35:21.395Z"
   },
   {
    "duration": 3,
    "start_time": "2024-09-12T20:36:15.658Z"
   },
   {
    "duration": 119,
    "start_time": "2024-09-12T20:36:19.178Z"
   },
   {
    "duration": 3,
    "start_time": "2024-09-12T20:44:06.323Z"
   },
   {
    "duration": 132,
    "start_time": "2024-09-12T20:44:08.553Z"
   },
   {
    "duration": 3,
    "start_time": "2024-09-12T20:44:23.882Z"
   },
   {
    "duration": 8,
    "start_time": "2024-09-12T20:44:30.240Z"
   },
   {
    "duration": 3,
    "start_time": "2024-09-12T20:48:31.815Z"
   },
   {
    "duration": 12,
    "start_time": "2024-09-12T20:49:31.558Z"
   },
   {
    "duration": 120,
    "start_time": "2024-09-12T20:49:38.387Z"
   },
   {
    "duration": 3,
    "start_time": "2024-09-12T20:50:31.384Z"
   },
   {
    "duration": 7,
    "start_time": "2024-09-12T20:50:36.078Z"
   },
   {
    "duration": 12,
    "start_time": "2024-09-12T20:50:53.016Z"
   },
   {
    "duration": 7,
    "start_time": "2024-09-12T20:51:10.515Z"
   },
   {
    "duration": 7,
    "start_time": "2024-09-12T20:51:19.771Z"
   },
   {
    "duration": 7,
    "start_time": "2024-09-12T20:51:33.729Z"
   },
   {
    "duration": 13,
    "start_time": "2024-09-12T20:54:40.220Z"
   },
   {
    "duration": 7,
    "start_time": "2024-09-12T20:54:54.712Z"
   },
   {
    "duration": 3,
    "start_time": "2024-09-12T20:55:09.391Z"
   },
   {
    "duration": 124,
    "start_time": "2024-09-12T20:55:10.861Z"
   },
   {
    "duration": 122,
    "start_time": "2024-09-12T20:55:36.911Z"
   },
   {
    "duration": 3,
    "start_time": "2024-09-12T20:56:41.772Z"
   },
   {
    "duration": 119,
    "start_time": "2024-09-12T20:56:43.107Z"
   },
   {
    "duration": 3,
    "start_time": "2024-09-12T20:58:26.019Z"
   },
   {
    "duration": 119,
    "start_time": "2024-09-12T20:58:28.730Z"
   },
   {
    "duration": 3,
    "start_time": "2024-09-12T20:59:20.240Z"
   },
   {
    "duration": 119,
    "start_time": "2024-09-12T20:59:45.680Z"
   },
   {
    "duration": 118,
    "start_time": "2024-09-12T21:00:02.239Z"
   },
   {
    "duration": 3,
    "start_time": "2024-09-12T21:00:36.295Z"
   },
   {
    "duration": 25,
    "start_time": "2024-09-12T21:00:38.232Z"
   },
   {
    "duration": 23,
    "start_time": "2024-09-12T21:00:52.060Z"
   },
   {
    "duration": 23,
    "start_time": "2024-09-12T21:01:23.544Z"
   },
   {
    "duration": 3,
    "start_time": "2024-09-12T21:01:46.481Z"
   },
   {
    "duration": 24,
    "start_time": "2024-09-12T21:01:48.383Z"
   },
   {
    "duration": 24,
    "start_time": "2024-09-12T21:02:31.303Z"
   },
   {
    "duration": 3,
    "start_time": "2024-09-12T21:02:52.365Z"
   },
   {
    "duration": 23,
    "start_time": "2024-09-12T21:02:55.106Z"
   },
   {
    "duration": 24,
    "start_time": "2024-09-12T21:02:57.217Z"
   },
   {
    "duration": 2,
    "start_time": "2024-09-12T21:09:58.633Z"
   },
   {
    "duration": 119,
    "start_time": "2024-09-12T21:10:00.812Z"
   },
   {
    "duration": 3,
    "start_time": "2024-09-12T21:11:23.161Z"
   },
   {
    "duration": 121,
    "start_time": "2024-09-12T21:11:25.105Z"
   },
   {
    "duration": 4,
    "start_time": "2024-09-12T21:21:05.547Z"
   },
   {
    "duration": 3,
    "start_time": "2024-09-12T21:21:36.520Z"
   },
   {
    "duration": 10,
    "start_time": "2024-09-12T21:21:39.291Z"
   },
   {
    "duration": 3,
    "start_time": "2024-09-12T21:22:30.057Z"
   },
   {
    "duration": 14,
    "start_time": "2024-09-12T21:22:31.935Z"
   },
   {
    "duration": 2,
    "start_time": "2024-09-12T21:22:42.462Z"
   },
   {
    "duration": 23,
    "start_time": "2024-09-12T21:22:43.696Z"
   },
   {
    "duration": 25,
    "start_time": "2024-09-12T21:22:57.726Z"
   },
   {
    "duration": 3,
    "start_time": "2024-09-12T21:26:07.196Z"
   },
   {
    "duration": 13,
    "start_time": "2024-09-12T21:26:09.346Z"
   },
   {
    "duration": 13,
    "start_time": "2024-09-12T21:26:26.162Z"
   },
   {
    "duration": 9,
    "start_time": "2024-09-12T21:29:27.166Z"
   },
   {
    "duration": 8,
    "start_time": "2024-09-12T21:30:26.289Z"
   },
   {
    "duration": 8,
    "start_time": "2024-09-12T21:30:30.742Z"
   },
   {
    "duration": 8,
    "start_time": "2024-09-12T21:30:40.979Z"
   },
   {
    "duration": 13,
    "start_time": "2024-09-12T21:31:13.898Z"
   },
   {
    "duration": 12,
    "start_time": "2024-09-12T21:31:43.161Z"
   },
   {
    "duration": 13,
    "start_time": "2024-09-12T21:31:50.186Z"
   },
   {
    "duration": 12,
    "start_time": "2024-09-12T21:32:09.358Z"
   },
   {
    "duration": 13,
    "start_time": "2024-09-12T21:37:30.907Z"
   },
   {
    "duration": 11,
    "start_time": "2024-09-12T21:37:32.455Z"
   },
   {
    "duration": 12,
    "start_time": "2024-09-12T21:37:34.346Z"
   },
   {
    "duration": 11,
    "start_time": "2024-09-12T21:37:40.222Z"
   },
   {
    "duration": 13,
    "start_time": "2024-09-12T21:37:50.316Z"
   },
   {
    "duration": 12,
    "start_time": "2024-09-12T21:37:56.106Z"
   },
   {
    "duration": 3,
    "start_time": "2024-09-12T21:41:24.139Z"
   },
   {
    "duration": 3,
    "start_time": "2024-09-12T21:41:39.238Z"
   },
   {
    "duration": 3,
    "start_time": "2024-09-12T21:41:50.503Z"
   },
   {
    "duration": 5,
    "start_time": "2024-09-12T21:42:46.225Z"
   },
   {
    "duration": 3,
    "start_time": "2024-09-12T21:42:49.768Z"
   },
   {
    "duration": 3,
    "start_time": "2024-09-12T21:43:17.672Z"
   },
   {
    "duration": 16,
    "start_time": "2024-09-12T21:52:54.984Z"
   },
   {
    "duration": 5,
    "start_time": "2024-09-12T21:53:04.889Z"
   },
   {
    "duration": 6,
    "start_time": "2024-09-12T21:53:16.496Z"
   },
   {
    "duration": 5,
    "start_time": "2024-09-12T21:54:23.517Z"
   },
   {
    "duration": 14,
    "start_time": "2024-09-12T21:54:29.042Z"
   },
   {
    "duration": 6,
    "start_time": "2024-09-12T21:54:33.587Z"
   },
   {
    "duration": 4,
    "start_time": "2024-09-12T21:56:52.742Z"
   },
   {
    "duration": 7,
    "start_time": "2024-09-12T21:57:09.992Z"
   },
   {
    "duration": 6,
    "start_time": "2024-09-12T22:01:11.250Z"
   },
   {
    "duration": 5,
    "start_time": "2024-09-12T22:03:03.473Z"
   },
   {
    "duration": 12,
    "start_time": "2024-09-12T22:30:15.327Z"
   },
   {
    "duration": 12,
    "start_time": "2024-09-12T22:30:24.967Z"
   },
   {
    "duration": 11,
    "start_time": "2024-09-12T22:30:34.388Z"
   },
   {
    "duration": 14,
    "start_time": "2024-09-12T22:30:59.364Z"
   },
   {
    "duration": 11,
    "start_time": "2024-09-12T22:31:10.428Z"
   },
   {
    "duration": 268,
    "start_time": "2024-09-12T22:32:30.294Z"
   },
   {
    "duration": 91,
    "start_time": "2024-09-12T22:32:32.474Z"
   },
   {
    "duration": 16,
    "start_time": "2024-09-12T22:32:34.934Z"
   },
   {
    "duration": 22,
    "start_time": "2024-09-12T22:32:38.565Z"
   },
   {
    "duration": 43,
    "start_time": "2024-09-12T22:32:46.143Z"
   },
   {
    "duration": 4,
    "start_time": "2024-09-12T22:32:52.941Z"
   },
   {
    "duration": 7,
    "start_time": "2024-09-12T22:32:55.938Z"
   },
   {
    "duration": 4,
    "start_time": "2024-09-12T22:32:59.018Z"
   },
   {
    "duration": 8,
    "start_time": "2024-09-12T22:33:05.207Z"
   },
   {
    "duration": 4,
    "start_time": "2024-09-12T22:33:07.373Z"
   },
   {
    "duration": 17,
    "start_time": "2024-09-12T22:33:10.193Z"
   },
   {
    "duration": 12,
    "start_time": "2024-09-12T22:33:12.722Z"
   },
   {
    "duration": 16,
    "start_time": "2024-09-12T22:33:14.454Z"
   },
   {
    "duration": 45,
    "start_time": "2024-09-12T22:33:26.581Z"
   },
   {
    "duration": 49,
    "start_time": "2024-09-12T22:33:28.534Z"
   },
   {
    "duration": 41,
    "start_time": "2024-09-12T22:33:33.717Z"
   },
   {
    "duration": 5,
    "start_time": "2024-09-12T22:33:40.373Z"
   },
   {
    "duration": 3,
    "start_time": "2024-09-12T22:33:53.053Z"
   },
   {
    "duration": 8,
    "start_time": "2024-09-12T22:33:55.841Z"
   },
   {
    "duration": 7,
    "start_time": "2024-09-12T22:33:58.026Z"
   },
   {
    "duration": 9,
    "start_time": "2024-09-12T22:34:09.067Z"
   },
   {
    "duration": 10,
    "start_time": "2024-09-12T22:34:12.629Z"
   },
   {
    "duration": 2,
    "start_time": "2024-09-12T22:34:16.998Z"
   },
   {
    "duration": 13,
    "start_time": "2024-09-12T22:34:22.829Z"
   },
   {
    "duration": 10,
    "start_time": "2024-09-12T22:34:24.926Z"
   },
   {
    "duration": 12,
    "start_time": "2024-09-12T22:34:26.374Z"
   },
   {
    "duration": 11,
    "start_time": "2024-09-12T22:34:27.486Z"
   },
   {
    "duration": 16,
    "start_time": "2024-09-12T22:34:29.049Z"
   },
   {
    "duration": 11,
    "start_time": "2024-09-12T22:34:30.501Z"
   },
   {
    "duration": 9,
    "start_time": "2024-09-12T22:34:37.409Z"
   },
   {
    "duration": 9,
    "start_time": "2024-09-13T17:48:29.373Z"
   }
  ],
  "colab": {
   "collapsed_sections": [
    "E0vqbgi9ay0H",
    "VUC88oWjTJw2"
   ],
   "provenance": []
  },
  "kernelspec": {
   "display_name": "Python 3",
   "language": "python",
   "name": "python3"
  },
  "language_info": {
   "codemirror_mode": {
    "name": "ipython",
    "version": 3
   },
   "file_extension": ".py",
   "mimetype": "text/x-python",
   "name": "python",
   "nbconvert_exporter": "python",
   "pygments_lexer": "ipython3",
   "version": "3.6.4"
  },
  "toc": {
   "base_numbering": 1,
   "nav_menu": {},
   "number_sections": true,
   "sideBar": true,
   "skip_h1_title": true,
   "title_cell": "Table of Contents",
   "title_sidebar": "Contents",
   "toc_cell": false,
   "toc_position": {
    "height": "calc(100% - 180px)",
    "left": "10px",
    "top": "150px",
    "width": "254px"
   },
   "toc_section_display": true,
   "toc_window_display": true
  }
 },
 "nbformat": 4,
 "nbformat_minor": 1
}
